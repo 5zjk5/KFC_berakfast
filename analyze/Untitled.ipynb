{
 "cells": [
  {
   "cell_type": "markdown",
   "metadata": {},
   "source": [
    "# 导入库"
   ]
  },
  {
   "cell_type": "code",
   "execution_count": 1,
   "metadata": {},
   "outputs": [],
   "source": [
    " import pandas as pd\n",
    "import jieba\n",
    "import wordcloud\n",
    "import imageio\n",
    "from collections import Counter\n",
    "from pyecharts import options as opts\n",
    "from pyecharts.charts import Bar"
   ]
  },
  {
   "cell_type": "markdown",
   "metadata": {},
   "source": [
    "# 导入数据，查看，缺失值，异常值处理"
   ]
  },
  {
   "cell_type": "code",
   "execution_count": 2,
   "metadata": {},
   "outputs": [
    {
     "data": {
      "text/html": [
       "<div>\n",
       "<style scoped>\n",
       "    .dataframe tbody tr th:only-of-type {\n",
       "        vertical-align: middle;\n",
       "    }\n",
       "\n",
       "    .dataframe tbody tr th {\n",
       "        vertical-align: top;\n",
       "    }\n",
       "\n",
       "    .dataframe thead th {\n",
       "        text-align: right;\n",
       "    }\n",
       "</style>\n",
       "<table border=\"1\" class=\"dataframe\">\n",
       "  <thead>\n",
       "    <tr style=\"text-align: right;\">\n",
       "      <th></th>\n",
       "      <th>name</th>\n",
       "      <th>foods</th>\n",
       "      <th>price</th>\n",
       "      <th>img_url</th>\n",
       "    </tr>\n",
       "  </thead>\n",
       "  <tbody>\n",
       "    <tr>\n",
       "      <th>0</th>\n",
       "      <td>1元安心大油条</td>\n",
       "      <td>产品实付满49元（不含外送费），可1元换购安心大油条1根，每单限1份</td>\n",
       "      <td>1.0</td>\n",
       "      <td>https://img.4008823823.com.cn/kfcios/Version/7...</td>\n",
       "    </tr>\n",
       "    <tr>\n",
       "      <th>1</th>\n",
       "      <td>1元芝士鸡肉帕尼尼</td>\n",
       "      <td>产品实付满69元（不含外送费），可1元换购芝士鸡肉帕尼尼1份，每单限1份</td>\n",
       "      <td>1.0</td>\n",
       "      <td>https://img.4008823823.com.cn/kfcios/Version/7...</td>\n",
       "    </tr>\n",
       "    <tr>\n",
       "      <th>2</th>\n",
       "      <td>有鸡腿全餐双人餐</td>\n",
       "      <td>套餐包含：有鸡腿中式/西式全餐（可选），共2份。&lt;br&gt;有鸡腿中式全餐：新奥尔良烤鸡腿1份+...</td>\n",
       "      <td>0.0</td>\n",
       "      <td>https://img.4008823823.com.cn/kfcios/Version/7...</td>\n",
       "    </tr>\n",
       "    <tr>\n",
       "      <th>3</th>\n",
       "      <td>有鸡腿西式全餐(香草流心可颂)</td>\n",
       "      <td>新奥尔良烤鸡腿1块+培根炒蛋1份+香脆薯饼1块+大溪地香草奶香流心可颂2只+咖啡饮品1杯（可...</td>\n",
       "      <td>29.0</td>\n",
       "      <td>https://img.4008823823.com.cn/kfcios/Version/7...</td>\n",
       "    </tr>\n",
       "    <tr>\n",
       "      <th>4</th>\n",
       "      <td>有鸡腿西式全餐(香草流心可颂)</td>\n",
       "      <td>新奥尔良烤鸡腿1块+太阳蛋+香脆薯饼1块+大溪地香草奶香流心可颂2只+咖啡饮品1杯（可加价换...</td>\n",
       "      <td>29.0</td>\n",
       "      <td>https://img.4008823823.com.cn/kfcios/Version/7...</td>\n",
       "    </tr>\n",
       "  </tbody>\n",
       "</table>\n",
       "</div>"
      ],
      "text/plain": [
       "              name                                              foods  price  \\\n",
       "0          1元安心大油条                 产品实付满49元（不含外送费），可1元换购安心大油条1根，每单限1份    1.0   \n",
       "1        1元芝士鸡肉帕尼尼               产品实付满69元（不含外送费），可1元换购芝士鸡肉帕尼尼1份，每单限1份    1.0   \n",
       "2         有鸡腿全餐双人餐  套餐包含：有鸡腿中式/西式全餐（可选），共2份。<br>有鸡腿中式全餐：新奥尔良烤鸡腿1份+...    0.0   \n",
       "3  有鸡腿西式全餐(香草流心可颂)  新奥尔良烤鸡腿1块+培根炒蛋1份+香脆薯饼1块+大溪地香草奶香流心可颂2只+咖啡饮品1杯（可...   29.0   \n",
       "4  有鸡腿西式全餐(香草流心可颂)  新奥尔良烤鸡腿1块+太阳蛋+香脆薯饼1块+大溪地香草奶香流心可颂2只+咖啡饮品1杯（可加价换...   29.0   \n",
       "\n",
       "                                             img_url  \n",
       "0  https://img.4008823823.com.cn/kfcios/Version/7...  \n",
       "1  https://img.4008823823.com.cn/kfcios/Version/7...  \n",
       "2  https://img.4008823823.com.cn/kfcios/Version/7...  \n",
       "3  https://img.4008823823.com.cn/kfcios/Version/7...  \n",
       "4  https://img.4008823823.com.cn/kfcios/Version/7...  "
      ]
     },
     "execution_count": 2,
     "metadata": {},
     "output_type": "execute_result"
    }
   ],
   "source": [
    "data = pd.read_csv('../spider/kfc.csv')\n",
    "data.head()"
   ]
  },
  {
   "cell_type": "code",
   "execution_count": 3,
   "metadata": {},
   "outputs": [
    {
     "data": {
      "text/html": [
       "<div>\n",
       "<style scoped>\n",
       "    .dataframe tbody tr th:only-of-type {\n",
       "        vertical-align: middle;\n",
       "    }\n",
       "\n",
       "    .dataframe tbody tr th {\n",
       "        vertical-align: top;\n",
       "    }\n",
       "\n",
       "    .dataframe thead th {\n",
       "        text-align: right;\n",
       "    }\n",
       "</style>\n",
       "<table border=\"1\" class=\"dataframe\">\n",
       "  <thead>\n",
       "    <tr style=\"text-align: right;\">\n",
       "      <th></th>\n",
       "      <th>price</th>\n",
       "    </tr>\n",
       "  </thead>\n",
       "  <tbody>\n",
       "    <tr>\n",
       "      <th>count</th>\n",
       "      <td>90.000000</td>\n",
       "    </tr>\n",
       "    <tr>\n",
       "      <th>mean</th>\n",
       "      <td>13.872222</td>\n",
       "    </tr>\n",
       "    <tr>\n",
       "      <th>std</th>\n",
       "      <td>7.257914</td>\n",
       "    </tr>\n",
       "    <tr>\n",
       "      <th>min</th>\n",
       "      <td>0.000000</td>\n",
       "    </tr>\n",
       "    <tr>\n",
       "      <th>25%</th>\n",
       "      <td>9.000000</td>\n",
       "    </tr>\n",
       "    <tr>\n",
       "      <th>50%</th>\n",
       "      <td>13.500000</td>\n",
       "    </tr>\n",
       "    <tr>\n",
       "      <th>75%</th>\n",
       "      <td>17.000000</td>\n",
       "    </tr>\n",
       "    <tr>\n",
       "      <th>max</th>\n",
       "      <td>36.000000</td>\n",
       "    </tr>\n",
       "  </tbody>\n",
       "</table>\n",
       "</div>"
      ],
      "text/plain": [
       "           price\n",
       "count  90.000000\n",
       "mean   13.872222\n",
       "std     7.257914\n",
       "min     0.000000\n",
       "25%     9.000000\n",
       "50%    13.500000\n",
       "75%    17.000000\n",
       "max    36.000000"
      ]
     },
     "execution_count": 3,
     "metadata": {},
     "output_type": "execute_result"
    }
   ],
   "source": [
    "data.describe()"
   ]
  },
  {
   "cell_type": "code",
   "execution_count": 4,
   "metadata": {},
   "outputs": [
    {
     "name": "stdout",
     "output_type": "stream",
     "text": [
      "<class 'pandas.core.frame.DataFrame'>\n",
      "RangeIndex: 90 entries, 0 to 89\n",
      "Data columns (total 4 columns):\n",
      "name       90 non-null object\n",
      "foods      89 non-null object\n",
      "price      90 non-null float64\n",
      "img_url    90 non-null object\n",
      "dtypes: float64(1), object(3)\n",
      "memory usage: 2.9+ KB\n"
     ]
    }
   ],
   "source": [
    "data.info()"
   ]
  },
  {
   "cell_type": "code",
   "execution_count": 5,
   "metadata": {},
   "outputs": [],
   "source": [
    "# 价格为 0.0 的使用平均数填充\n",
    "def f(p):\n",
    "    if p == 0.0:\n",
    "        p = 14\n",
    "        return p\n",
    "    else:\n",
    "         return p\n",
    "data['price'] = data['price'].map(f)"
   ]
  },
  {
   "cell_type": "code",
   "execution_count": 6,
   "metadata": {},
   "outputs": [],
   "source": [
    "# 删除缺失值的行\n",
    "data = data.dropna()"
   ]
  },
  {
   "cell_type": "markdown",
   "metadata": {},
   "source": [
    "# 词云"
   ]
  },
  {
   "cell_type": "code",
   "execution_count": 7,
   "metadata": {},
   "outputs": [
    {
     "name": "stderr",
     "output_type": "stream",
     "text": [
      "Building prefix dict from the default dictionary ...\n",
      "Loading model from cache C:\\Users\\MUXIAT~1\\AppData\\Local\\Temp\\jieba.cache\n",
      "Loading model cost 1.436 seconds.\n",
      "Prefix dict has been built successfully.\n"
     ]
    }
   ],
   "source": [
    "# 连接所有餐名，食物内容\n",
    "names = list(data['name'])\n",
    "foods = list(data['foods'])\n",
    "names.extend(foods)\n",
    "names = ' '.join(names)\n",
    "\n",
    "# 分词\n",
    "ls = jieba.lcut(names)\n",
    "txt = ' '.join(ls)"
   ]
  },
  {
   "cell_type": "code",
   "execution_count": 8,
   "metadata": {},
   "outputs": [],
   "source": [
    "# 清洗掉与食物无关的词语\n",
    "txt = txt.replace('产品','').replace('包装','').replace('包装实物','')\\\n",
    "      .replace('br','').replace('随心换','').replace('实物','')\\\n",
    "      .replace('主要','').replace('原料','').replace('指比菜','')\\\n",
    "      .replace('单单','').replace('加价','').replace('换购','')\\\n",
    "      .replace('总价','').replace('金额','').replace('为准','')\\\n",
    "      .replace('早餐','').replace('饮品','')"
   ]
  },
  {
   "cell_type": "code",
   "execution_count": 9,
   "metadata": {},
   "outputs": [
    {
     "data": {
      "text/plain": [
       "<wordcloud.wordcloud.WordCloud at 0x1c978c40dd8>"
      ]
     },
     "execution_count": 9,
     "metadata": {},
     "output_type": "execute_result"
    }
   ],
   "source": [
    "#词云生成\n",
    "mask = imageio.imread(\"foodName.jpg\")\n",
    "w = wordcloud.WordCloud(background_color = 'white',\n",
    "                        width = 1000,height = 700,\n",
    "                        font_path = 'msyh.ttc',\n",
    "                        mask = mask)\n",
    "w.generate(txt)\n",
    "w.to_file('wordcloud.png')"
   ]
  },
  {
   "cell_type": "markdown",
   "metadata": {},
   "source": [
    "# 主食营养分布"
   ]
  },
  {
   "cell_type": "code",
   "execution_count": 10,
   "metadata": {
    "code_folding": []
   },
   "outputs": [],
   "source": [
    "hamburger = {\n",
    "    '热量' : 250,\n",
    "    '脂肪' : 10,\n",
    "    '碳水化合物' : 20,\n",
    "    '蛋白质' : 10\n",
    "}\n",
    "rice_ball = {\n",
    "    '热量' : 200,\n",
    "    '脂肪' : 11,\n",
    "    '碳水化合物' : 21,\n",
    "    '蛋白质' : 6\n",
    "}\n",
    "porridge = {\n",
    "    '热量' : 50,\n",
    "    '脂肪' : 1.5,\n",
    "    '碳水化合物' : 8,\n",
    "    '蛋白质' : 2.5\n",
    "}\n",
    "chicken = {\n",
    "    '热量' : 255,\n",
    "    '脂肪' : 15,\n",
    "    '碳水化合物' : 10,\n",
    "    '蛋白质' : 21\n",
    "}"
   ]
  },
  {
   "cell_type": "code",
   "execution_count": 11,
   "metadata": {},
   "outputs": [
    {
     "data": {
      "text/plain": [
       "'D:\\\\python项目\\\\我的爬虫+数据分析\\\\KFC早餐\\\\analyze\\\\主食营养分布.html'"
      ]
     },
     "execution_count": 11,
     "metadata": {},
     "output_type": "execute_result"
    }
   ],
   "source": [
    "x = ['汉堡','饭团','粥','鸡肉']\n",
    "y1 = [250,200,50,255]\n",
    "y2 = [10,11,1.5,15]\n",
    "y3 = [20,21,8,10]\n",
    "y4 = [10,6,2.5,21]\n",
    "c = Bar()\n",
    "c.add_xaxis(x)\n",
    "c.add_yaxis(\"热量\", y1, stack=\"stack1\")\n",
    "c.add_yaxis(\"脂肪\", y2, stack=\"stack1\")\n",
    "c.add_yaxis(\"碳水化合物\", y3, stack=\"stack1\")\n",
    "c.add_yaxis(\"蛋白质\", y4, stack=\"stack1\")\n",
    "c.set_series_opts(label_opts=opts.LabelOpts(is_show=False))\n",
    "c.set_global_opts(title_opts=opts.TitleOpts(title=\"主食营养分布\"))\n",
    "#c.render_notebook()\n",
    "c.render('主食营养分布.html')"
   ]
  },
  {
   "cell_type": "markdown",
   "metadata": {},
   "source": [
    "# 小吃营养分布"
   ]
  },
  {
   "cell_type": "code",
   "execution_count": 12,
   "metadata": {},
   "outputs": [],
   "source": [
    "youtiao = {\n",
    "    '热量' : 388,\n",
    "    '脂肪' : 18,\n",
    "    '碳水化合物' : 51,\n",
    "    '蛋白质' : 7\n",
    "}\n",
    "chayedan = {\n",
    "    '热量' : 151,\n",
    "    '脂肪' : 6,\n",
    "    '碳水化合物' : 12,\n",
    "    '蛋白质' : 11\n",
    "}\n",
    "shubin = {\n",
    "    '热量' : 327,\n",
    "    '脂肪' : 22,\n",
    "    '碳水化合物' : 32,\n",
    "    '蛋白质' : 3\n",
    "}\n",
    "danta = {\n",
    "    '热量' : 255,\n",
    "    '脂肪' : 22,\n",
    "    '碳水化合物' : 38,\n",
    "    '蛋白质' : 7\n",
    "}"
   ]
  },
  {
   "cell_type": "code",
   "execution_count": 16,
   "metadata": {},
   "outputs": [
    {
     "data": {
      "text/plain": [
       "'D:\\\\python项目\\\\我的爬虫+数据分析\\\\KFC早餐\\\\analyze\\\\小吃营养分布.html'"
      ]
     },
     "execution_count": 16,
     "metadata": {},
     "output_type": "execute_result"
    }
   ],
   "source": [
    "from pyecharts import options as opts\n",
    "from pyecharts.charts import Bar\n",
    "from pyecharts.commons.utils import JsCode\n",
    "from pyecharts.globals import ThemeType\n",
    "\n",
    "list2 = [\n",
    "    {\"value\": 388, \"percent\": 388 / (388 + 18 + 51 + 7)},\n",
    "    {\"value\": 151, \"percent\": 151 / (151 + 6 + 12 + 11)},\n",
    "    {\"value\": 327, \"percent\": 327 / (327 + 22 + 32 + 3)},\n",
    "    {\"value\": 255, \"percent\": 255 / (22 + 38 +  + 7 + 255)},\n",
    "]\n",
    "\n",
    "list3 = [\n",
    "    {\"value\": 18, \"percent\": 18 / (388 + 18 + 51 + 7)},\n",
    "    {\"value\": 6, \"percent\": 6 / (151 + 6 + 12 + 11)},\n",
    "    {\"value\": 22, \"percent\": 22 / (327 + 22 + 32 + 3)},\n",
    "    {\"value\": 22, \"percent\": 22 / (22 + 38 + 7 + 255)},\n",
    "]\n",
    "\n",
    "list4 = [\n",
    "    {\"value\": 51, \"percent\": 51 / (388 + 18 + 51 + 7)},\n",
    "    {\"value\": 12, \"percent\": 12 / (151 + 6 + 12 + 11)},\n",
    "    {\"value\": 32, \"percent\": 32 / (327 + 22 + 32 + 3)},\n",
    "    {\"value\": 38, \"percent\": 38 / (22 + 38 + 7 + 255)},\n",
    "]\n",
    "\n",
    "list5 = [\n",
    "    {\"value\": 7, \"percent\": 7 / (388 + 18 + 51 + 7)},\n",
    "    {\"value\": 11, \"percent\": 11 / (151 + 6 + 12 + 11)},\n",
    "    {\"value\": 3, \"percent\": 3 / (327 + 22 + 32 + 3)},\n",
    "    {\"value\": 7, \"percent\": 7 / (22 + 38 + 7 + 255)},\n",
    "]\n",
    "\n",
    "c = Bar(init_opts=opts.InitOpts(theme=ThemeType.LIGHT))\n",
    "c.add_xaxis(['油条','茶叶蛋','薯饼','蛋挞'])\n",
    "c.add_yaxis(\"热量\", list2, stack=\"stack1\", category_gap=\"50%\")\n",
    "c.add_yaxis(\"脂肪\", list3, stack=\"stack1\", category_gap=\"50%\")\n",
    "c.add_yaxis(\"碳水化合物\", list4, stack=\"stack1\", category_gap=\"50%\")\n",
    "c.add_yaxis(\"蛋白质\", list5, stack=\"stack1\", category_gap=\"50%\")\n",
    "c.set_series_opts(\n",
    "        label_opts=opts.LabelOpts(\n",
    "            position=\"right\",\n",
    "            formatter=JsCode(\n",
    "                \"function(x){return Number(x.data.percent * 100).toFixed() + '%';}\"\n",
    "            ),\n",
    "        )\n",
    "    )\n",
    "c.render('小吃营养分布.html')"
   ]
  },
  {
   "cell_type": "markdown",
   "metadata": {},
   "source": [
    "# 饮品"
   ]
  },
  {
   "cell_type": "code",
   "execution_count": 17,
   "metadata": {},
   "outputs": [],
   "source": [
    "doujiang = {\n",
    "    '热量' : 31,\n",
    "    '脂肪' : 2,\n",
    "    '碳水化合物' : 1.5,\n",
    "    '蛋白质' : 3\n",
    "}\n",
    "coffe = {\n",
    "    '热量' : 100,\n",
    "    '脂肪' : 4,\n",
    "    '碳水化合物' : 12,\n",
    "    '蛋白质' : 4\n",
    "}"
   ]
  },
  {
   "cell_type": "code",
   "execution_count": 30,
   "metadata": {},
   "outputs": [
    {
     "data": {
      "text/plain": [
       "'D:\\\\python项目\\\\我的爬虫+数据分析\\\\KFC早餐\\\\analyze\\\\豆浆咖啡.html'"
      ]
     },
     "execution_count": 30,
     "metadata": {},
     "output_type": "execute_result"
    }
   ],
   "source": [
    "from pyecharts import options as opts\n",
    "from pyecharts.charts import Pie\n",
    "\n",
    "\n",
    "c = Pie()\n",
    "c.add(\n",
    "        \"\",\n",
    "        [list(z) for z in zip([\"热量\", \"脂肪\",'碳水化合物','蛋白质'],\n",
    "                              [31,2,1.5, 3])],\n",
    "        center=[\"20%\", \"50%\"],\n",
    "        radius=[60, 80],\n",
    "    )\n",
    "c.add(\n",
    "        \"\",\n",
    "        [list(z) for z in zip([\"热量\", \"脂肪\",'碳水化合物','蛋白质'],\n",
    "                              [100,4,12, 4])],\n",
    "        center=[\"55%\", \"50%\"],\n",
    "        radius=[60, 80],\n",
    "    )\n",
    "c.set_global_opts(\n",
    "        title_opts=opts.TitleOpts(title=\"豆浆（左）咖啡（右）\"),\n",
    "        legend_opts=opts.LegendOpts(\n",
    "            type_=\"scroll\", pos_top=\"200%\", pos_left=\"80%\", orient=\"vertical\"\n",
    "        ),\n",
    "    )\n",
    "c.render('豆浆咖啡.html')"
   ]
  },
  {
   "cell_type": "code",
   "execution_count": null,
   "metadata": {},
   "outputs": [],
   "source": []
  }
 ],
 "metadata": {
  "kernelspec": {
   "display_name": "Python 3",
   "language": "python",
   "name": "python3"
  },
  "language_info": {
   "codemirror_mode": {
    "name": "ipython",
    "version": 3
   },
   "file_extension": ".py",
   "mimetype": "text/x-python",
   "name": "python",
   "nbconvert_exporter": "python",
   "pygments_lexer": "ipython3",
   "version": "3.7.3"
  },
  "toc": {
   "base_numbering": 1,
   "nav_menu": {},
   "number_sections": true,
   "sideBar": true,
   "skip_h1_title": false,
   "title_cell": "Table of Contents",
   "title_sidebar": "Contents",
   "toc_cell": false,
   "toc_position": {},
   "toc_section_display": true,
   "toc_window_display": false
  }
 },
 "nbformat": 4,
 "nbformat_minor": 2
}
